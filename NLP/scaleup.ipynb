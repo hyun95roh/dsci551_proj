{
 "cells": [
  {
   "cell_type": "code",
   "execution_count": null,
   "metadata": {},
   "outputs": [],
   "source": [
    "import re \n",
    "import token"
   ]
  },
  {
   "cell_type": "code",
   "execution_count": null,
   "metadata": {},
   "outputs": [
    {
     "data": {
      "text/plain": [
       "'\\n1) SELECT ... WHERE ... \\n\\n2) SELECT ... GROUP BY ... \\n2.1) SELECT ... GROUP BY ... HAVING ...\\n\\n3) SELECT ... WHERE ... ORDER BY ... LIMIT ... \\n\\n4.1) SELECT SUM()... FROM ...\\n4.2) SELECT AVG()... FROM ...  \\n4.3) SELECT MIN()... FROM ...\\n4.4) SELECT MAX()... FROM ...\\n4.5) SELECT COUNT()... FROM ...\\n\\n'"
      ]
     },
     "execution_count": 5,
     "metadata": {},
     "output_type": "execute_result"
    }
   ],
   "source": [
    "# SQL output format\n",
    "## Number of attributes : CDC data = 12 ; FRED = 2 ; WEGOVY = 2  \n",
    "'''\n",
    "1) SELECT ... WHERE ... \n",
    "\n",
    "2) SELECT ... GROUP BY ... \n",
    " 2.1) SELECT ... GROUP BY ... HAVING ...\n",
    "\n",
    "3) SELECT ... WHERE ... ORDER BY ... LIMIT ... \n",
    "\n",
    "4) Aggregation functions: \n",
    " 4.1) SELECT SUM()... FROM ...\n",
    " 4.2) SELECT AVG()... FROM ...  \n",
    " 4.3) SELECT MIN()... FROM ...\n",
    " 4.4) SELECT MAX()... FROM ...\n",
    " 4.5) SELECT COUNT()... FROM ...\n",
    "\n",
    "5) Patterns of WHERE clauses -- \n",
    " 5.1) Basic comparison: \n",
    "    SELECT * FROM table_name WHERE column_name = 'value';\n",
    " \n",
    " 5.2) Range Queries: \n",
    "    SELECT * FROM table_name WHERE column_name BETWEEN value1 AND value2;\n",
    "    SELECT * FROM table_name WHERE column_name >= value;\n",
    "\n",
    " 5.3) Pattern matching: \n",
    "    SELECT * FROM table_name WHERE column_name LIKE '%pattern%';\n",
    "    SELECT * FROM table_name WHERE column_name LIKE '_A_';\n",
    "\n",
    " 5.4) Checking for NULL: \n",
    "    SELECT * FROM table_name WHERE column_name IS NULL;\n",
    "    SELECT * FROM table_name WHERE column_name IS NOT NULL;\n",
    "\n",
    " 5.5) Using IN: \n",
    "    SELECT * FROM table_name WHERE column_name IN (value1, value2, value3);\n",
    "\n",
    " 5.6) Logical condition:   \n",
    "    SELECT * FROM table_name \n",
    "    WHERE condition1 AND condition2;\n",
    "\n",
    "    SELECT * FROM table_name \n",
    "    WHERE condition1 OR condition2;\n",
    "\n",
    "    SELECT * FROM table_name \n",
    "    WHERE NOT condition; \n",
    "\n",
    " 5.7) Using EXISTS\n",
    "    SELECT * FROM table_name WHERE EXISTS (subquery);\n",
    " \n",
    " 5.8) Subqueries \n",
    "    SELECT * FROM table_name WHERE column_name = (SELECT value FROM another_table WHERE condition);\n",
    "\n",
    " 5.9) Conditional Aggregations \n",
    "    SELECT field, COUNT(*) FROM employees \n",
    "    GROUP BY field \n",
    "    HAVING COUNT(*) > 5;\n",
    "\n",
    " 5.10) Case-Insentive Filtering \n",
    "    SELECT * FROM table_name WHERE UPPER(column_name) = 'VALUE';\n",
    "\n",
    "'''\n"
   ]
  },
  {
   "cell_type": "code",
   "execution_count": 42,
   "metadata": {},
   "outputs": [],
   "source": [
    "def parse(sample_nlq, split_criteria): \n",
    "    left_token, right_token = sample_nlq.split(split_criteria, 1)        \n",
    "    return left_token, right_token \n",
    "\n",
    "class nlq_format_checker: \n",
    "    def __init__(self):\n",
    "        self.all_att_list= {'FRED': ['date','income'], \n",
    "                            'WEGOVY': ['quarter','sales'], \n",
    "                            'CDC': ['SUBTOPIC', 'SUBTOPIC_ID', 'CLASSIFICATION', 'CLASSIFICATION_ID', 'GROUP_NAME', 'GROUP_ID', \n",
    "                                    'SUBGROUP', 'SUBGROUP_ID', 'ESTIMATE_TYPE', 'ESTIMATE_TYPE_ID', 'TIME_PERIOD', \n",
    "                                    'TIME_PERIOD_ID', 'ESTIMATE', 'STANDARD_ERROR']} \n",
    "        self.all_table_list = ['FRED', 'WEGOVY', 'CDC']  \n",
    "\n",
    "        self.required_att_list = []         \n",
    "        self.required_table_list = []\n",
    "        self.context_group_set = []  \n",
    "\n",
    "        self.subquery = \"\"\n",
    "        self.where = \"\"\n",
    "        self.groupby = \"\" \n",
    "\n",
    "        self.start_nlq = [\"find\", \"group\", \"show\", \"retrieve\", \"calculate\", \"identify\", \"count\", \"list\", \"display\"]\n",
    "        self.att_nlq = [] \n",
    "\n",
    "    def add_template(self, sample_nlq):\n",
    "        nlq = sample_nlq.split(\" \")\n",
    "        for i in self.all_table_list: \n",
    "            if i in nlq: \n",
    "                self.required_table_list.append(i) \n",
    "        \n",
    "        for i in self.all_att_list: \n",
    "            if i in nlq: \n",
    "                self.required_att_list.append(i)\n",
    "\n",
    "        # Divide query into two chunks: chunk_1 before 'FROM' and chunk_2 after. \n",
    "        l1, r1 = parse(sample_nlq, \"in the\")\n",
    "        \n",
    "        # Create a new dictionary for each sample_nlq to store context\n",
    "        context_group = {}  \n",
    "        context_group[\"FROM\"] = parse(r1, \" \")[1].replace(\".\", \"\")  \n",
    "        context_group[\"SELECT\"] = parse(l1, \" \")[1:] \n",
    "\n",
    "        # Append the new context group to the context_group_set\n",
    "        self.context_group_set.append(context_group)"
   ]
  },
  {
   "cell_type": "code",
   "execution_count": 44,
   "metadata": {},
   "outputs": [
    {
     "data": {
      "text/plain": [
       "[{'FROM': 'CDC data where the age is 65', 'SELECT': ('all records ',)}]"
      ]
     },
     "execution_count": 44,
     "metadata": {},
     "output_type": "execute_result"
    }
   ],
   "source": [
    "checker = nlq_format_checker()\n",
    "checker.add_template(\"Find all records in the CDC data where the age is 65.\")\n",
    "checker.context_group_set "
   ]
  },
  {
   "cell_type": "code",
   "execution_count": 45,
   "metadata": {},
   "outputs": [
    {
     "data": {
      "text/plain": [
       "[{'FROM': 'CDC data where the age is 65', 'SELECT': ('all records ',)},\n",
       " {'FROM': \"FRED dataset by state and display each state's population\",\n",
       "  'SELECT': ('all entries ',)}]"
      ]
     },
     "execution_count": 45,
     "metadata": {},
     "output_type": "execute_result"
    }
   ],
   "source": [
    "checker.add_template(\"Group all entries in the FRED dataset by state and display each state's population.\")\n",
    "checker.context_group_set"
   ]
  },
  {
   "cell_type": "code",
   "execution_count": 46,
   "metadata": {},
   "outputs": [
    {
     "data": {
      "text/plain": [
       "[{'FROM': 'CDC data where the age is 65', 'SELECT': ('all records ',)},\n",
       " {'FROM': \"FRED dataset by state and display each state's population\",\n",
       "  'SELECT': ('all entries ',)},\n",
       " {'FROM': 'CDC data for patients aged between 20 and 30',\n",
       "  'SELECT': ('all records ',)}]"
      ]
     },
     "execution_count": 46,
     "metadata": {},
     "output_type": "execute_result"
    }
   ],
   "source": [
    "checker.add_template(\"Retrieve all records in the CDC data for patients aged between 20 and 30.\")\n",
    "checker.context_group_set"
   ]
  },
  {
   "cell_type": "markdown",
   "metadata": {},
   "source": [
    "Example queries:"
   ]
  },
  {
   "cell_type": "code",
   "execution_count": null,
   "metadata": {},
   "outputs": [],
   "source": [
    "### 1) `SELECT ... WHERE ...`\n",
    "   - **Example Query** \"Find all records in the CDC data where the age is 65.\"\n",
    "\n",
    "### 2) `SELECT ... GROUP BY ...`\n",
    "   - **Example Query:** \"Group all entries in the FRED dataset by state and display each state's population.\"\n",
    "\n",
    "#### 2.1) `SELECT ... GROUP BY ... HAVING ...`\n",
    "   - **Example Query:** \"Show all cities in the CDC data that have more than 10,000 cases, grouped by city.\"\n",
    "\n",
    "### 3) `SELECT ... WHERE ... ORDER BY ... LIMIT ...`\n",
    "   - **Example Query:** \"Retrieve the top 5 states from the WEGOVY dataset where the usage is highest, sorted by usage in descending order.\"\n",
    "\n",
    "### 4) Aggregation functions:\n",
    "\n",
    "#### 4.1) `SELECT SUM() ... FROM ...`\n",
    "   - **Example Query:** \"Calculate the total number of vaccinations recorded in the CDC data.\"\n",
    "\n",
    "#### 4.2) `SELECT AVG() ... FROM ...`\n",
    "   - **Example Query:** \"Find the average number of hospitalizations in each region of the FRED dataset.\"\n",
    "\n",
    "#### 4.3) `SELECT MIN() ... FROM ...`\n",
    "   - **Example Query:** \"Identify the minimum dosage amount in the WEGOVY dataset.\"\n",
    "\n",
    "#### 4.4) `SELECT MAX() ... FROM ...`\n",
    "   - **Example Query:** \"Find the highest population among all counties in the FRED dataset.\"\n",
    "\n",
    "#### 4.5) `SELECT COUNT() ... FROM ...`\n",
    "   - **Example Query:** \"Count the total number of entries in the CDC data.\"\n",
    "\n",
    "### 5) Patterns of WHERE clauses:\n",
    "\n",
    "#### 5.1) Basic Comparison\n",
    "   - **Example Query:** \"List all records in the WEGOVY dataset where the dosage is exactly 2 mg.\"\n",
    "\n",
    "#### 5.2) Range Queries\n",
    "   - **Example Query:** \"Retrieve all records in the CDC data for patients aged between 20 and 30.\"\n",
    "   - **Example Query:** \"Find entries in the CDC dataset where the blood pressure reading is greater than 120.\"\n",
    "\n",
    "#### 5.3) Pattern Matching\n",
    "   - **Example Query:** \"List all counties in the FRED data that contain 'New' in their names.\"\n",
    "   - **Example Query:** \"Find all records in the CDC dataset where the region code is 'CA'.\"\n",
    "\n",
    "#### 5.4) Checking for NULL\n",
    "   - **Example Query:** \"Show all entries in the CDC data where the vaccination status is unknown.\"\n",
    "\n",
    "#### 5.5) Using IN\n",
    "   - **Example Query:** \"Display all records in the FRED dataset where the state is either 'California,' 'Texas,' or 'New York'.\"\n",
    "\n",
    "#### 5.6) Logical Conditions\n",
    "   - **Example Query (AND):** \"List all CDC records where age is above 50 and has received a vaccination.\"\n",
    "   - **Example Query (OR):** \"Retrieve FRED dataset records where the state is 'Texas' or population is above 1 million.\"\n",
    "   - **Example Query (NOT):** \"Find CDC data entries where the vaccination status is not 'complete'.\"\n",
    "\n",
    "#### 5.7) Using EXISTS\n",
    "   - **Example Query:** \"List all patients in the CDC dataset who have a recorded entry in the FRED dataset.\"\n",
    "\n",
    "#### 5.8) Subqueries\n",
    "   - **Example Query:** \"Retrieve all records in the CDC data where the population is equal to the maximum population recorded in the FRED dataset.\"\n",
    "\n",
    "#### 5.9) Conditional Aggregations\n",
    "   - **Example Query:** \"List all regions in the CDC data where there are more than 1,000 cases recorded, grouped by region.\"\n",
    "\n",
    "#### 5.10) Case-Insensitive Filtering\n",
    "   - **Example Query:** \"Find all CDC entries where the condition name matches 'covid' (case-insensitive).\"\n"
   ]
  },
  {
   "cell_type": "code",
   "execution_count": null,
   "metadata": {},
   "outputs": [],
   "source": []
  },
  {
   "cell_type": "code",
   "execution_count": null,
   "metadata": {},
   "outputs": [],
   "source": []
  }
 ],
 "metadata": {
  "kernelspec": {
   "display_name": "pyhton_3_11",
   "language": "python",
   "name": "python3"
  },
  "language_info": {
   "codemirror_mode": {
    "name": "ipython",
    "version": 3
   },
   "file_extension": ".py",
   "mimetype": "text/x-python",
   "name": "python",
   "nbconvert_exporter": "python",
   "pygments_lexer": "ipython3",
   "version": "3.11.8"
  }
 },
 "nbformat": 4,
 "nbformat_minor": 2
}
